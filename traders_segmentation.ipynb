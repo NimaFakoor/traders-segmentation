{
  "nbformat": 4,
  "nbformat_minor": 0,
  "metadata": {
    "colab": {
      "provenance": []
    },
    "kernelspec": {
      "name": "python3",
      "display_name": "Python 3"
    },
    "language_info": {
      "name": "python"
    }
  },
  "cells": [
    {
      "cell_type": "markdown",
      "metadata": {
        "id": "Lin4eBQBnjRn"
      },
      "source": [
        "Setup"
      ]
    },
    {
      "cell_type": "code",
      "metadata": {
        "id": "wKzg0WECnmxp"
      },
      "source": [
        "import numpy as np, pandas as pd\n",
        "import seaborn as sns\n",
        "import matplotlib.pyplot as plt\n",
        "\n",
        "traders = pd.read_csv('trader.csv')\n",
        "\n",
        "traders.head()"
      ],
      "execution_count": null,
      "outputs": []
    },
    {
      "cell_type": "code",
      "metadata": {
        "id": "dwN_koQIoNd3"
      },
      "source": [
        "traders.describe()"
      ],
      "execution_count": null,
      "outputs": []
    },
    {
      "cell_type": "markdown",
      "metadata": {
        "id": "pg77upU_ojWf"
      },
      "source": [
        "Exploring the Data\n"
      ]
    },
    {
      "cell_type": "code",
      "metadata": {
        "id": "YuOm0j2zolZ4"
      },
      "source": [
        "# See the distribution of gender to recognize different distributions\n",
        "sns.countplot(x='Gender', data=traders)\n",
        "plt.title('Distribution of Gender')"
      ],
      "execution_count": null,
      "outputs": []
    },
    {
      "cell_type": "markdown",
      "metadata": {
        "id": "FYVgEaf2pLr5"
      },
      "source": [
        "about age\n"
      ]
    },
    {
      "cell_type": "code",
      "metadata": {
        "id": "TEr6unHIpOdx"
      },
      "source": [
        "# Create a histogram of ages\n",
        "traders.hist('Age', bins=35);\n",
        "plt.title('Distribution of Age');\n",
        "plt.xlabel('Age');"
      ],
      "execution_count": null,
      "outputs": []
    },
    {
      "cell_type": "code",
      "metadata": {
        "id": "Mn7VYjJspfIK"
      },
      "source": [
        "plt.hist('Age', data=traders[traders['Gender'] == 'Male'], alpha=0.5, label='Male')\n",
        "plt.hist('Age', data=traders[traders['Gender'] == 'Female'], alpha=0.5, label='Female')\n",
        "plt.title('Distribution of Age by Gender')\n",
        "plt.xlabel('Age')\n",
        "plt.legend()"
      ],
      "execution_count": null,
      "outputs": []
    },
    {
      "cell_type": "markdown",
      "metadata": {
        "id": "H9w7CH9hqGfX"
      },
      "source": [
        " about profit"
      ]
    },
    {
      "cell_type": "code",
      "metadata": {
        "id": "7amaRD4jqsIX"
      },
      "source": [
        "traders.hist('profit')\n",
        "plt.title('profit Distribution in Thousands of Rials')\n",
        "plt.xlabel('Thousands of Rials')"
      ],
      "execution_count": null,
      "outputs": []
    },
    {
      "cell_type": "markdown",
      "metadata": {
        "id": "96UE9EdmrKMm"
      },
      "source": [
        "Much of the profit between the 60 and 85"
      ]
    },
    {
      "cell_type": "code",
      "metadata": {
        "id": "ZQmvzOd3rNhe"
      },
      "source": [
        "# Histogram of profit by gender\n",
        "plt.hist('profit', data=traders[traders['Gender'] == 'Male'], alpha=0.5, label='Male')\n",
        "plt.hist('profit', data=traders[traders['Gender'] == 'Female'], alpha=0.5, label='Female')\n",
        "plt.title('Distribution of profit by Gender')\n",
        "plt.xlabel('profit (Thousands of Rials)')\n",
        "plt.legend()"
      ],
      "execution_count": null,
      "outputs": []
    },
    {
      "cell_type": "markdown",
      "metadata": {
        "id": "W53lXXx1sES_"
      },
      "source": [
        "The women in this data set make less profit than the men. What does their risk assessment look like and how does it compare though?"
      ]
    },
    {
      "cell_type": "code",
      "metadata": {
        "id": "12bdJF3qsjg3"
      },
      "source": [
        "# Create data sets by gender to save time in the future since gender seems to significantly impact other variables\n",
        "male_traders = traders[traders['Gender'] == 'Male']\n",
        "female_traders = traders[traders['Gender'] == 'Female']\n",
        "# Print the average risk assessment for men and women\n",
        "print(male_traders['risk assessment'].mean())\n",
        "print(female_traders['risk assessment'].mean())\n"
      ],
      "execution_count": null,
      "outputs": []
    },
    {
      "cell_type": "markdown",
      "metadata": {
        "id": "XSr83gb5tjzh"
      },
      "source": [
        "Men had an average risk assessment of 48.5 and women had an average of 51.5.\n",
        "add further complexity to understand the data even further. \n",
        "\n",
        "Because there are mostly quantitative variables and one clean, binary categorical variable, it’s helpful to make some scatter plots.\n"
      ]
    },
    {
      "cell_type": "code",
      "metadata": {
        "id": "I6x2iTLitsVP"
      },
      "source": [
        "\n",
        "sns.scatterplot('Age', 'profit', hue='Gender', data=traders)\n",
        "plt.title('Age to profit, Colored by Gender')"
      ],
      "execution_count": null,
      "outputs": []
    },
    {
      "cell_type": "code",
      "metadata": {
        "id": "U877Vh_-uNgZ"
      },
      "source": [
        "sns.heatmap(traders.corr(), annot=True)"
      ],
      "execution_count": null,
      "outputs": []
    },
    {
      "cell_type": "markdown",
      "metadata": {
        "id": "mUNzbW9yupse"
      },
      "source": [
        "You can see from the above plot that the only variables that are even somewhat correlated is risk assessment and age. It’s a negative correlation so the older a trader is in this data set, the lower their risk assessment. But because it’s 0.33, it’s not a strong correlation at all.\n"
      ]
    },
    {
      "cell_type": "code",
      "metadata": {
        "id": "chWWhngmvxpp"
      },
      "source": [
        "sns.scatterplot('Age', 'risk assessment', hue='Gender', data=traders)\n",
        "plt.title('Age to risk assessment, Colored by Gender')"
      ],
      "execution_count": null,
      "outputs": []
    },
    {
      "cell_type": "markdown",
      "metadata": {
        "id": "4CQaxRgCyWw4"
      },
      "source": [
        "check that out with two heat maps on the gender-specific data frames "
      ]
    },
    {
      "cell_type": "code",
      "metadata": {
        "id": "SPkXo1rwzu2G"
      },
      "source": [
        "\n",
        "sns.heatmap(female_traders.corr(), annot=True)\n",
        "plt.title('Correlation Heatmap - Female')\n"
      ],
      "execution_count": null,
      "outputs": []
    },
    {
      "cell_type": "code",
      "metadata": {
        "id": "5aGQjekmz8O5"
      },
      "source": [
        "female_traders \n"
      ],
      "execution_count": null,
      "outputs": []
    },
    {
      "cell_type": "code",
      "metadata": {
        "id": "R_ccb7pt0ID-"
      },
      "source": [
        "sns.lmplot('Age', 'risk assessment', data=female_traders)\n",
        "plt.title('Age to risk assessment, Female Only')\n"
      ],
      "execution_count": null,
      "outputs": []
    },
    {
      "cell_type": "markdown",
      "metadata": {
        "id": "45quwfHf0trd"
      },
      "source": [
        "Lastly, look at profit to risk assessment colored by gender with this code"
      ]
    },
    {
      "cell_type": "code",
      "metadata": {
        "id": "dIoThgkT0vaG"
      },
      "source": [
        "\n",
        "sns.scatterplot('profit', 'risk assessment', hue='Gender', data=traders)\n",
        "plt.title('profit to risk assessment, Colored by Gender')"
      ],
      "execution_count": null,
      "outputs": []
    },
    {
      "cell_type": "markdown",
      "metadata": {
        "id": "WvgGxE7f1rN4"
      },
      "source": [
        "There is some patterning here. Zero correlation though. But we can think of these as traders segments:\n"
      ]
    },
    {
      "cell_type": "markdown",
      "metadata": {
        "id": "EHKZRsRi1seQ"
      },
      "source": [
        "# 1. Low profit, low risk assessment\n",
        "# 2. Low profit, high risk assessment\n",
        "# 3. Mid profit, medium risk assessment\n",
        "# 4. High profit, low risk assessment\n",
        "# 5. High profit, high risk assessment"
      ]
    }
  ]
}